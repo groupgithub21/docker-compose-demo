{
 "cells": [
  {
   "cell_type": "markdown",
   "id": "2a5515c2-bea3-4b1a-88fa-e663133b193a",
   "metadata": {
    "tags": []
   },
   "source": [
    "## Load Data"
   ]
  },
  {
   "cell_type": "code",
   "execution_count": 2,
   "id": "1a6dc35c-478c-4f15-875f-09e282274fd3",
   "metadata": {},
   "outputs": [],
   "source": [
    "import pandas as pd"
   ]
  },
  {
   "cell_type": "code",
   "execution_count": 6,
   "id": "6434e89b-2c00-40d1-8dee-c58872fd226b",
   "metadata": {},
   "outputs": [],
   "source": [
    "sample_person= pd.read_csv('sample_person.csv')\n",
    "sample_company=pd.read_csv('sample_company.csv')"
   ]
  },
  {
   "cell_type": "markdown",
   "id": "9a1148e6-6c99-49de-b0bb-9ba541cdf136",
   "metadata": {
    "tags": []
   },
   "source": [
    "## Col-mapping Senzing\n",
    " - [Full Glossary](https://senzing.zendesk.com/hc/en-us/article_attachments/4405461248915/Senzing_Generic_Entity_Specification_v2.8.1.pdf)"
   ]
  },
  {
   "cell_type": "markdown",
   "id": "932dee4d-0d67-4f8c-8671-33188f6a282b",
   "metadata": {},
   "source": [
    " - RECORD_ID is unique identifier per Datasource\n",
    " - Only rename columns which you want Senzing to map, and disgard other columns"
   ]
  },
  {
   "cell_type": "markdown",
   "id": "13ebaa26-08a9-4d11-a30c-0af5ec2e61e1",
   "metadata": {},
   "source": [
    "![Mapping Examples](Schema.png)"
   ]
  },
  {
   "cell_type": "markdown",
   "id": "79ac5731-dc7c-4dff-a191-061f83a8eb68",
   "metadata": {},
   "source": [
    "## Load Data into Senzing"
   ]
  },
  {
   "cell_type": "markdown",
   "id": "31f76481-7d28-40dc-8b03-b25c9bb735cf",
   "metadata": {},
   "source": [
    "curl -X 'POST' \\\n",
    "  'http://192.168.180.237:8250/data-sources?dataSource=CIVIL&dataSource=WATCHLIST&withRaw=false' \\\n",
    "  -H 'accept: application/json; charset=UTF-8' \\\n",
    "  -H 'Content-Type: application/json; charset=UTF-8'"
   ]
  },
  {
   "cell_type": "markdown",
   "id": "7955a752-7788-4ecd-91fd-1fa04a8586f4",
   "metadata": {},
   "source": [
    "## Extract ER-ised data from Senzing\n",
    "[Export Senzing Data](https://senzing.zendesk.com/hc/en-us/articles/115004915547)"
   ]
  },
  {
   "cell_type": "markdown",
   "id": "f560aba6-59e5-42f3-a924-2958639a5f3f",
   "metadata": {},
   "source": [
    "- Access into Container\n",
    "\n",
    "sudo docker exec -it senzing-sshd /bin/bash<br/>\n",
    "python3 /opt/senzing/g2/python/G2Export.py -o <some_dir>myExport.csv<br/>\n",
    "exit<br/>\n",
    "sudo docker cp senzing-sshd:<some_dir>myExport.csv <local_drive><br/>"
   ]
  },
  {
   "cell_type": "markdown",
   "id": "dc957f2c-88a0-4698-a01c-f546eacee9e4",
   "metadata": {},
   "source": [
    "## Exported Data"
   ]
  },
  {
   "cell_type": "code",
   "execution_count": 4,
   "id": "7ca94e56-b69c-4962-9b6d-3273c3fe941f",
   "metadata": {},
   "outputs": [],
   "source": [
    "df = pd.read_csv('data/myExport.csv')"
   ]
  },
  {
   "cell_type": "code",
   "execution_count": 24,
   "id": "1b91f898-4bbb-4ade-bb32-32fa84451d71",
   "metadata": {},
   "outputs": [],
   "source": [
    "df['RECORD_ID']=df['RECORD_ID'].astype(str)"
   ]
  },
  {
   "cell_type": "markdown",
   "id": "543e1d75-a2f4-48ee-9d62-e5764a56a858",
   "metadata": {},
   "source": [
    "![Export Data fields](data/export_file.png)"
   ]
  },
  {
   "cell_type": "markdown",
   "id": "f9a218da-da55-4753-82b7-cbe017a440b0",
   "metadata": {},
   "source": [
    "__Just want to load relationship data__"
   ]
  },
  {
   "cell_type": "code",
   "execution_count": 25,
   "id": "9de0a0d5-8c83-44e2-b9fa-70c6f92dc066",
   "metadata": {},
   "outputs": [
    {
     "data": {
      "text/plain": [
       "RESOLVED_ENTITY_ID\n",
       "1         1001,1002\n",
       "3              1003\n",
       "4              1004\n",
       "100001    2001,2002\n",
       "100003    2003,2004\n",
       "Name: RECORD_ID, dtype: object"
      ]
     },
     "execution_count": 25,
     "metadata": {},
     "output_type": "execute_result"
    }
   ],
   "source": [
    "mask=(df['MATCH_LEVEL']==0) | (df['MATCH_LEVEL']==1)\n",
    "df[mask].groupby(by='RESOLVED_ENTITY_ID')['RECORD_ID'].apply(','.join)"
   ]
  }
 ],
 "metadata": {
  "kernelspec": {
   "display_name": "Python 3 (ipykernel)",
   "language": "python",
   "name": "python3"
  },
  "language_info": {
   "codemirror_mode": {
    "name": "ipython",
    "version": 3
   },
   "file_extension": ".py",
   "mimetype": "text/x-python",
   "name": "python",
   "nbconvert_exporter": "python",
   "pygments_lexer": "ipython3",
   "version": "3.8.12"
  }
 },
 "nbformat": 4,
 "nbformat_minor": 5
}
